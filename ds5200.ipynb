{
 "cells": [
  {
   "cell_type": "markdown",
   "id": "50f59474-6ee2-4f76-aa3c-380887ecdcda",
   "metadata": {},
   "source": [
    "# Loading Data"
   ]
  },
  {
   "cell_type": "code",
   "id": "ed887cf9-aff1-46f8-9b18-973c20a2a794",
   "metadata": {
    "ExecuteTime": {
     "end_time": "2025-04-11T03:23:53.460799Z",
     "start_time": "2025-04-11T03:23:48.910839Z"
    }
   },
   "source": [
    "import pandas as pd\n",
    "from torch.utils.data import Dataset, DataLoader\n",
    "from transformers import BertTokenizer\n",
    "from sklearn.metrics import accuracy_score\n",
    "from transformers import get_scheduler\n",
    "from transformers import T5Tokenizer, T5ForConditionalGeneration\n",
    "import torch\n",
    "import numpy as np\n",
    "import matplotlib.pyplot as plt\n",
    "import pickle\n",
    "from torch.optim import AdamW\n",
    "from tqdm import tqdm\n",
    "import time\n"
   ],
   "outputs": [
    {
     "name": "stderr",
     "output_type": "stream",
     "text": [
      "/Users/cannoli/Library/Python/3.9/lib/python/site-packages/urllib3/__init__.py:35: NotOpenSSLWarning: urllib3 v2 only supports OpenSSL 1.1.1+, currently the 'ssl' module is compiled with 'LibreSSL 2.8.3'. See: https://github.com/urllib3/urllib3/issues/3020\n",
      "  warnings.warn(\n",
      "/Library/Python/3.9/site-packages/tqdm/auto.py:21: TqdmWarning: IProgress not found. Please update jupyter and ipywidgets. See https://ipywidgets.readthedocs.io/en/stable/user_install.html\n",
      "  from .autonotebook import tqdm as notebook_tqdm\n"
     ]
    }
   ],
   "execution_count": 1
  },
  {
   "cell_type": "code",
   "id": "b8bec3c2-1613-434f-bca8-7f93b0cdd923",
   "metadata": {
    "ExecuteTime": {
     "end_time": "2025-04-11T03:23:53.959344Z",
     "start_time": "2025-04-11T03:23:53.466921Z"
    }
   },
   "source": [
    "# Load dataset\n",
    "train_df = pd.read_json('../data/train.json')\n",
    "val_df = pd.read_json('../data/val.json')\n",
    "test_df = pd.read_json('../data/test.json')"
   ],
   "outputs": [],
   "execution_count": 2
  },
  {
   "metadata": {
    "ExecuteTime": {
     "end_time": "2025-04-11T03:23:54.037179Z",
     "start_time": "2025-04-11T03:23:54.035338Z"
    }
   },
   "cell_type": "code",
   "source": [
    "# How long did this take\n",
    "start_time = time.time()\n",
    "print(\"Training started at:\", time.strftime(\"%H:%M:%S\", time.localtime()))"
   ],
   "id": "d013380859b5f9b7",
   "outputs": [
    {
     "name": "stdout",
     "output_type": "stream",
     "text": [
      "Training started at: 23:23:54\n"
     ]
    }
   ],
   "execution_count": 3
  },
  {
   "cell_type": "markdown",
   "id": "82f9692d-d08a-4338-9976-9f98c939d3bb",
   "metadata": {},
   "source": [
    "# Preprocessing Data"
   ]
  },
  {
   "cell_type": "code",
   "id": "cf19218a-505c-4ba7-bd41-97975be2848d",
   "metadata": {
    "ExecuteTime": {
     "end_time": "2025-04-11T03:23:54.046395Z",
     "start_time": "2025-04-11T03:23:54.044252Z"
    }
   },
   "source": [
    "# Function to concatenate references\n",
    "def concatenate_references(row):\n",
    "    references = []\n",
    "    num_refs = int(row.get('num_references', 0))  # Avoid KeyError\n",
    "    for i in range(num_refs):\n",
    "        ref_key = f'ref_abstract.cite_{i}.abstract'\n",
    "        if ref_key in row:  # Ensure key exists\n",
    "            references.append(row.get(ref_key, ''))  # Avoid KeyError\n",
    "    return ' '.join(references).strip()"
   ],
   "outputs": [],
   "execution_count": 4
  },
  {
   "cell_type": "code",
   "id": "48fb1632-57ea-45be-97f7-64cc76bad51e",
   "metadata": {
    "ExecuteTime": {
     "end_time": "2025-04-11T03:23:54.234333Z",
     "start_time": "2025-04-11T03:23:54.098914Z"
    }
   },
   "source": [
    "# Apply function to create a new column with concatenated references\n",
    "train_df['references'] = train_df.apply(concatenate_references, axis=1)\n",
    "val_df['references'] = val_df.apply(concatenate_references, axis=1)\n",
    "test_df['references'] = test_df.apply(concatenate_references, axis=1)"
   ],
   "outputs": [],
   "execution_count": 5
  },
  {
   "cell_type": "markdown",
   "id": "c332cbfc-1579-4856-a2df-4df750f45ba1",
   "metadata": {},
   "source": [
    "# Bert Tokenization"
   ]
  },
  {
   "cell_type": "code",
   "id": "9e9959b3-fc12-4822-a0e5-202ce7906fdb",
   "metadata": {
    "ExecuteTime": {
     "end_time": "2025-04-11T03:23:54.374582Z",
     "start_time": "2025-04-11T03:23:54.237446Z"
    }
   },
   "source": [
    "tokenizer = BertTokenizer.from_pretrained(\"bert-base-uncased\")\n",
    "MAX_LENGTH = 512\n",
    "\n",
    "\n",
    "# Function to tokenize text\n",
    "def tokenize_function(text):\n",
    "    return tokenizer(\n",
    "        text,\n",
    "        padding=\"max_length\",\n",
    "        truncation=True,\n",
    "        max_length=MAX_LENGTH,\n",
    "        return_tensors=\"pt\"\n",
    "    )\n",
    "\n",
    "\n",
    "# Custom Dataset Class\n",
    "class ReferenceDataset(Dataset):\n",
    "    def __init__(self, dataframe):\n",
    "        self.data = dataframe\n",
    "\n",
    "    def __len__(self):\n",
    "        return len(self.data)\n",
    "\n",
    "    def __getitem__(self, index):\n",
    "        row = self.data.iloc[index]\n",
    "\n",
    "        # Tokenize abstract and references\n",
    "        abstract_tokens = tokenize_function(row['abstract'])\n",
    "        references_tokens = tokenize_function(row['references'])\n",
    "\n",
    "        return {\n",
    "            \"input_ids\": abstract_tokens[\"input_ids\"].squeeze(0),\n",
    "            \"attention_mask\": abstract_tokens[\"attention_mask\"].squeeze(0),\n",
    "            \"labels\": references_tokens[\"input_ids\"].squeeze(0)  # Treat references as labels\n",
    "        }\n",
    "\n",
    "\n",
    "# Create dataset instances\n",
    "train_dataset = ReferenceDataset(train_df)\n",
    "val_dataset = ReferenceDataset(val_df)\n",
    "test_dataset = ReferenceDataset(test_df)\n",
    "\n",
    "# Create DataLoaders\n",
    "BATCH_SIZE = 8\n",
    "train_loader = DataLoader(train_dataset, batch_size=BATCH_SIZE, shuffle=True)\n",
    "val_loader = DataLoader(val_dataset, batch_size=BATCH_SIZE, shuffle=False)\n",
    "test_loader = DataLoader(test_dataset, batch_size=BATCH_SIZE, shuffle=False)"
   ],
   "outputs": [],
   "execution_count": 6
  },
  {
   "cell_type": "markdown",
   "id": "04517e7e-1bdb-4fa1-866c-26acaccb419a",
   "metadata": {},
   "source": [
    "# Model Preparation"
   ]
  },
  {
   "cell_type": "code",
   "id": "f3cee1f5-9a63-4f4a-8d1e-2101c6752b6e",
   "metadata": {
    "ExecuteTime": {
     "end_time": "2025-04-11T03:23:54.383895Z",
     "start_time": "2025-04-11T03:23:54.382196Z"
    }
   },
   "source": "# pip install sentencepiece",
   "outputs": [],
   "execution_count": 7
  },
  {
   "cell_type": "code",
   "id": "ee084862-e01f-49d9-8224-b76d74d75c3f",
   "metadata": {
    "ExecuteTime": {
     "end_time": "2025-04-11T03:23:54.392031Z",
     "start_time": "2025-04-11T03:23:54.390691Z"
    }
   },
   "source": "# pip install hf_xet",
   "outputs": [],
   "execution_count": 8
  },
  {
   "cell_type": "code",
   "id": "05ddb532-b68c-4837-9946-8f6db191edfc",
   "metadata": {
    "ExecuteTime": {
     "end_time": "2025-04-11T03:23:54.849235Z",
     "start_time": "2025-04-11T03:23:54.404939Z"
    }
   },
   "source": [
    "# Load T5 tokenizer & model\n",
    "MODEL_NAME = \"t5-small\"\n",
    "tokenizer = T5Tokenizer.from_pretrained(MODEL_NAME)\n",
    "model = T5ForConditionalGeneration.from_pretrained(MODEL_NAME)\n",
    "\n",
    "# Define maximum token lengths\n",
    "MAX_INPUT_LENGTH = 512\n",
    "MAX_OUTPUT_LENGTH = 128"
   ],
   "outputs": [
    {
     "name": "stderr",
     "output_type": "stream",
     "text": [
      "You are using the default legacy behaviour of the <class 'transformers.models.t5.tokenization_t5.T5Tokenizer'>. This is expected, and simply means that the `legacy` (previous) behavior will be used so nothing changes for you. If you want to use the new behaviour, set `legacy=False`. This should only be set if you understand what it means, and thoroughly read the reason why this was added as explained in https://github.com/huggingface/transformers/pull/24565\n"
     ]
    }
   ],
   "execution_count": 9
  },
  {
   "cell_type": "code",
   "id": "13dfd697-cc98-45d4-9928-82bf8d2af003",
   "metadata": {
    "ExecuteTime": {
     "end_time": "2025-04-11T03:23:54.859890Z",
     "start_time": "2025-04-11T03:23:54.855931Z"
    }
   },
   "source": [
    "class ReferenceDataset(Dataset):\n",
    "    def __init__(self, dataframe, tokenizer, max_input_length, max_output_length):\n",
    "        self.data = dataframe\n",
    "        self.tokenizer = tokenizer\n",
    "        self.max_input_length = max_input_length\n",
    "        self.max_output_length = max_output_length\n",
    "\n",
    "    def __len__(self):\n",
    "        return len(self.data)\n",
    "\n",
    "    def __getitem__(self, index):\n",
    "        row = self.data.iloc[index]\n",
    "\n",
    "        # Tokenize abstract (input)\n",
    "        input_encoding = self.tokenizer(\n",
    "            row[\"abstract\"],\n",
    "            padding=\"max_length\",\n",
    "            truncation=True,\n",
    "            max_length=self.max_input_length,\n",
    "            return_tensors=\"pt\"\n",
    "        )\n",
    "\n",
    "        # Tokenize references (target output)\n",
    "        target_encoding = self.tokenizer(\n",
    "            row[\"references\"],\n",
    "            padding=\"max_length\",\n",
    "            truncation=True,\n",
    "            max_length=self.max_output_length,\n",
    "            return_tensors=\"pt\"\n",
    "        )\n",
    "\n",
    "        return {\n",
    "            \"input_ids\": input_encoding[\"input_ids\"].squeeze(0),\n",
    "            \"attention_mask\": input_encoding[\"attention_mask\"].squeeze(0),\n",
    "            \"labels\": target_encoding[\"input_ids\"].squeeze(0)\n",
    "        }\n",
    "\n",
    "\n",
    "# Create dataset instances\n",
    "train_dataset = ReferenceDataset(train_df, tokenizer, MAX_INPUT_LENGTH, MAX_OUTPUT_LENGTH)\n",
    "val_dataset = ReferenceDataset(val_df, tokenizer, MAX_INPUT_LENGTH, MAX_OUTPUT_LENGTH)\n",
    "test_dataset = ReferenceDataset(test_df, tokenizer, MAX_INPUT_LENGTH, MAX_OUTPUT_LENGTH)\n",
    "\n",
    "# Create DataLoaders\n",
    "BATCH_SIZE = 8\n",
    "\n",
    "train_loader = DataLoader(train_dataset, batch_size=BATCH_SIZE, shuffle=True)\n",
    "val_loader = DataLoader(val_dataset, batch_size=BATCH_SIZE, shuffle=False)\n",
    "test_loader = DataLoader(test_dataset, batch_size=BATCH_SIZE, shuffle=False)\n"
   ],
   "outputs": [],
   "execution_count": 10
  },
  {
   "cell_type": "markdown",
   "id": "4f43081e-f6b7-48ae-bc51-89ef3cf1b87b",
   "metadata": {},
   "source": [
    "# Model Training"
   ]
  },
  {
   "cell_type": "code",
   "id": "41b41764-6506-4406-a06e-c3675fe9d885",
   "metadata": {
    "ExecuteTime": {
     "end_time": "2025-04-11T03:23:54.881390Z",
     "start_time": "2025-04-11T03:23:54.874707Z"
    }
   },
   "source": [
    "# Define optimizer\n",
    "optimizer = AdamW(model.parameters(), lr=5e-5)\n",
    "\n",
    "# Define learning rate scheduler\n",
    "num_training_steps = len(train_loader) * 1\n",
    "lr_scheduler = get_scheduler(\n",
    "    \"linear\", optimizer=optimizer, num_warmup_steps=0, num_training_steps=num_training_steps\n",
    ")\n",
    "\n",
    "# Move model to GPU if available\n",
    "device = torch.device(\"cuda\" if torch.cuda.is_available() else \"cpu\")\n",
    "model.to(device)"
   ],
   "outputs": [
    {
     "data": {
      "text/plain": [
       "T5ForConditionalGeneration(\n",
       "  (shared): Embedding(32128, 512)\n",
       "  (encoder): T5Stack(\n",
       "    (embed_tokens): Embedding(32128, 512)\n",
       "    (block): ModuleList(\n",
       "      (0): T5Block(\n",
       "        (layer): ModuleList(\n",
       "          (0): T5LayerSelfAttention(\n",
       "            (SelfAttention): T5Attention(\n",
       "              (q): Linear(in_features=512, out_features=512, bias=False)\n",
       "              (k): Linear(in_features=512, out_features=512, bias=False)\n",
       "              (v): Linear(in_features=512, out_features=512, bias=False)\n",
       "              (o): Linear(in_features=512, out_features=512, bias=False)\n",
       "              (relative_attention_bias): Embedding(32, 8)\n",
       "            )\n",
       "            (layer_norm): T5LayerNorm()\n",
       "            (dropout): Dropout(p=0.1, inplace=False)\n",
       "          )\n",
       "          (1): T5LayerFF(\n",
       "            (DenseReluDense): T5DenseActDense(\n",
       "              (wi): Linear(in_features=512, out_features=2048, bias=False)\n",
       "              (wo): Linear(in_features=2048, out_features=512, bias=False)\n",
       "              (dropout): Dropout(p=0.1, inplace=False)\n",
       "              (act): ReLU()\n",
       "            )\n",
       "            (layer_norm): T5LayerNorm()\n",
       "            (dropout): Dropout(p=0.1, inplace=False)\n",
       "          )\n",
       "        )\n",
       "      )\n",
       "      (1-5): 5 x T5Block(\n",
       "        (layer): ModuleList(\n",
       "          (0): T5LayerSelfAttention(\n",
       "            (SelfAttention): T5Attention(\n",
       "              (q): Linear(in_features=512, out_features=512, bias=False)\n",
       "              (k): Linear(in_features=512, out_features=512, bias=False)\n",
       "              (v): Linear(in_features=512, out_features=512, bias=False)\n",
       "              (o): Linear(in_features=512, out_features=512, bias=False)\n",
       "            )\n",
       "            (layer_norm): T5LayerNorm()\n",
       "            (dropout): Dropout(p=0.1, inplace=False)\n",
       "          )\n",
       "          (1): T5LayerFF(\n",
       "            (DenseReluDense): T5DenseActDense(\n",
       "              (wi): Linear(in_features=512, out_features=2048, bias=False)\n",
       "              (wo): Linear(in_features=2048, out_features=512, bias=False)\n",
       "              (dropout): Dropout(p=0.1, inplace=False)\n",
       "              (act): ReLU()\n",
       "            )\n",
       "            (layer_norm): T5LayerNorm()\n",
       "            (dropout): Dropout(p=0.1, inplace=False)\n",
       "          )\n",
       "        )\n",
       "      )\n",
       "    )\n",
       "    (final_layer_norm): T5LayerNorm()\n",
       "    (dropout): Dropout(p=0.1, inplace=False)\n",
       "  )\n",
       "  (decoder): T5Stack(\n",
       "    (embed_tokens): Embedding(32128, 512)\n",
       "    (block): ModuleList(\n",
       "      (0): T5Block(\n",
       "        (layer): ModuleList(\n",
       "          (0): T5LayerSelfAttention(\n",
       "            (SelfAttention): T5Attention(\n",
       "              (q): Linear(in_features=512, out_features=512, bias=False)\n",
       "              (k): Linear(in_features=512, out_features=512, bias=False)\n",
       "              (v): Linear(in_features=512, out_features=512, bias=False)\n",
       "              (o): Linear(in_features=512, out_features=512, bias=False)\n",
       "              (relative_attention_bias): Embedding(32, 8)\n",
       "            )\n",
       "            (layer_norm): T5LayerNorm()\n",
       "            (dropout): Dropout(p=0.1, inplace=False)\n",
       "          )\n",
       "          (1): T5LayerCrossAttention(\n",
       "            (EncDecAttention): T5Attention(\n",
       "              (q): Linear(in_features=512, out_features=512, bias=False)\n",
       "              (k): Linear(in_features=512, out_features=512, bias=False)\n",
       "              (v): Linear(in_features=512, out_features=512, bias=False)\n",
       "              (o): Linear(in_features=512, out_features=512, bias=False)\n",
       "            )\n",
       "            (layer_norm): T5LayerNorm()\n",
       "            (dropout): Dropout(p=0.1, inplace=False)\n",
       "          )\n",
       "          (2): T5LayerFF(\n",
       "            (DenseReluDense): T5DenseActDense(\n",
       "              (wi): Linear(in_features=512, out_features=2048, bias=False)\n",
       "              (wo): Linear(in_features=2048, out_features=512, bias=False)\n",
       "              (dropout): Dropout(p=0.1, inplace=False)\n",
       "              (act): ReLU()\n",
       "            )\n",
       "            (layer_norm): T5LayerNorm()\n",
       "            (dropout): Dropout(p=0.1, inplace=False)\n",
       "          )\n",
       "        )\n",
       "      )\n",
       "      (1-5): 5 x T5Block(\n",
       "        (layer): ModuleList(\n",
       "          (0): T5LayerSelfAttention(\n",
       "            (SelfAttention): T5Attention(\n",
       "              (q): Linear(in_features=512, out_features=512, bias=False)\n",
       "              (k): Linear(in_features=512, out_features=512, bias=False)\n",
       "              (v): Linear(in_features=512, out_features=512, bias=False)\n",
       "              (o): Linear(in_features=512, out_features=512, bias=False)\n",
       "            )\n",
       "            (layer_norm): T5LayerNorm()\n",
       "            (dropout): Dropout(p=0.1, inplace=False)\n",
       "          )\n",
       "          (1): T5LayerCrossAttention(\n",
       "            (EncDecAttention): T5Attention(\n",
       "              (q): Linear(in_features=512, out_features=512, bias=False)\n",
       "              (k): Linear(in_features=512, out_features=512, bias=False)\n",
       "              (v): Linear(in_features=512, out_features=512, bias=False)\n",
       "              (o): Linear(in_features=512, out_features=512, bias=False)\n",
       "            )\n",
       "            (layer_norm): T5LayerNorm()\n",
       "            (dropout): Dropout(p=0.1, inplace=False)\n",
       "          )\n",
       "          (2): T5LayerFF(\n",
       "            (DenseReluDense): T5DenseActDense(\n",
       "              (wi): Linear(in_features=512, out_features=2048, bias=False)\n",
       "              (wo): Linear(in_features=2048, out_features=512, bias=False)\n",
       "              (dropout): Dropout(p=0.1, inplace=False)\n",
       "              (act): ReLU()\n",
       "            )\n",
       "            (layer_norm): T5LayerNorm()\n",
       "            (dropout): Dropout(p=0.1, inplace=False)\n",
       "          )\n",
       "        )\n",
       "      )\n",
       "    )\n",
       "    (final_layer_norm): T5LayerNorm()\n",
       "    (dropout): Dropout(p=0.1, inplace=False)\n",
       "  )\n",
       "  (lm_head): Linear(in_features=512, out_features=32128, bias=False)\n",
       ")"
      ]
     },
     "execution_count": 11,
     "metadata": {},
     "output_type": "execute_result"
    }
   ],
   "execution_count": 11
  },
  {
   "cell_type": "code",
   "id": "1c0a1f80-cc1f-4f8d-bb82-8e7d4e1c7135",
   "metadata": {
    "ExecuteTime": {
     "end_time": "2025-04-11T05:26:33.267055Z",
     "start_time": "2025-04-11T03:23:54.892303Z"
    }
   },
   "source": [
    "EPOCHS = 1\n",
    "\n",
    "for epoch in range(EPOCHS):\n",
    "    model.train()\n",
    "    loop = tqdm(train_loader, leave=True)\n",
    "\n",
    "    for batch in loop:\n",
    "        input_ids = batch[\"input_ids\"].to(device)\n",
    "        attention_mask = batch[\"attention_mask\"].to(device)\n",
    "        labels = batch[\"labels\"].to(device)\n",
    "\n",
    "        # Forward pass\n",
    "        outputs = model(input_ids=input_ids, attention_mask=attention_mask, labels=labels)\n",
    "        loss = outputs.loss\n",
    "\n",
    "        # Backward pass\n",
    "        optimizer.zero_grad()\n",
    "        loss.backward()\n",
    "        optimizer.step()\n",
    "        lr_scheduler.step()\n",
    "\n",
    "        # Print loss\n",
    "        loop.set_description(f\"Epoch {epoch + 1}\")\n",
    "        loop.set_postfix(loss=loss.item())"
   ],
   "outputs": [
    {
     "name": "stderr",
     "output_type": "stream",
     "text": [
      "  0%|          | 0/3797 [00:00<?, ?it/s]Passing a tuple of `past_key_values` is deprecated and will be removed in Transformers v4.48.0. You should pass an instance of `EncoderDecoderCache` instead, e.g. `past_key_values=EncoderDecoderCache.from_legacy_cache(past_key_values)`.\n",
      "Epoch 1: 100%|██████████| 3797/3797 [2:02:38<00:00,  1.94s/it, loss=4.28e-6]      \n"
     ]
    }
   ],
   "execution_count": 12
  },
  {
   "cell_type": "code",
   "id": "e047584e-43f8-4888-bd49-e6fd930efb77",
   "metadata": {
    "ExecuteTime": {
     "end_time": "2025-04-11T05:30:16.459274Z",
     "start_time": "2025-04-11T05:26:33.399551Z"
    }
   },
   "source": [
    "def evaluate(model, val_loader, device):\n",
    "    model.eval()\n",
    "    val_loss = 0\n",
    "    val_steps = 0\n",
    "    all_labels = []\n",
    "    all_preds = []\n",
    "\n",
    "    with torch.no_grad():\n",
    "        for batch in tqdm(val_loader, leave=True):\n",
    "            input_ids = batch[\"input_ids\"].to(device)\n",
    "            attention_mask = batch[\"attention_mask\"].to(device)\n",
    "            labels = batch[\"labels\"].to(device)\n",
    "\n",
    "            outputs = model(input_ids=input_ids, attention_mask=attention_mask, labels=labels)\n",
    "            loss = outputs.loss\n",
    "            val_loss += loss.item()\n",
    "            val_steps += 1\n",
    "\n",
    "            # Get predictions\n",
    "            preds = torch.argmax(outputs.logits, dim=-1)\n",
    "            all_labels.extend(labels.cpu().numpy())\n",
    "            all_preds.extend(preds.cpu().numpy())\n",
    "\n",
    "    avg_val_loss = val_loss / val_steps\n",
    "    accuracy = accuracy_score(all_labels, all_preds)\n",
    "\n",
    "    print(f\"Validation Loss: {avg_val_loss}\")\n",
    "    print(f\"Validation Accuracy: {accuracy}\")\n",
    "\n",
    "    return avg_val_loss, accuracy\n",
    "\n",
    "\n",
    "evaluate(model, val_loader, device)"
   ],
   "outputs": [
    {
     "name": "stderr",
     "output_type": "stream",
     "text": [
      "100%|██████████| 634/634 [03:43<00:00,  2.84it/s]"
     ]
    },
    {
     "name": "stdout",
     "output_type": "stream",
     "text": [
      "Validation Loss: 1.0160178238103768e-05\n",
      "Validation Accuracy: 0.9996052112120016\n"
     ]
    },
    {
     "name": "stderr",
     "output_type": "stream",
     "text": [
      "\n"
     ]
    },
    {
     "data": {
      "text/plain": [
       "(1.0160178238103768e-05, 0.9996052112120016)"
      ]
     },
     "execution_count": 13,
     "metadata": {},
     "output_type": "execute_result"
    }
   ],
   "execution_count": 13
  },
  {
   "metadata": {},
   "cell_type": "markdown",
   "source": [
    "- validation loss is very low (3.82e-05)\n",
    "- validation accuracy is very high (99.84%)\n",
    "- performing exceptionally well on the validation dataset"
   ],
   "id": "4a4eb34b7e79c4ba"
  },
  {
   "metadata": {},
   "cell_type": "markdown",
   "source": "",
   "id": "8cff0e76cea99d35"
  },
  {
   "metadata": {},
   "cell_type": "markdown",
   "source": "",
   "id": "6ece2765698e4d88"
  },
  {
   "metadata": {
    "ExecuteTime": {
     "end_time": "2025-04-11T11:19:07.253601Z",
     "start_time": "2025-04-11T11:19:07.248281Z"
    }
   },
   "cell_type": "code",
   "source": [
    "def find_learning_rate(model, train_loader, device, start_lr=1e-7, end_lr=1, num_steps=100):\n",
    "    model.train()\n",
    "    optimizer = AdamW(model.parameters(), lr=start_lr)\n",
    "    lr_factor = (end_lr / start_lr) ** (1 / num_steps)\n",
    "    learning_rates = []\n",
    "    losses = []\n",
    "\n",
    "    best_loss = float('inf')\n",
    "    print(\"Finding optimal learning rate...\")\n",
    "    max_steps = min(num_steps, len(train_loader))\n",
    "    loop = tqdm(train_loader, total=max_steps)\n",
    "\n",
    "    for i, batch in enumerate(loop):\n",
    "        if i >= max_steps:\n",
    "            break\n",
    "\n",
    "        input_ids = batch[\"input_ids\"].to(device)\n",
    "        attention_mask = batch[\"attention_mask\"].to(device)\n",
    "        labels = batch[\"labels\"].to(device)\n",
    "\n",
    "        optimizer.zero_grad()\n",
    "\n",
    "        try:\n",
    "            outputs = model(input_ids=input_ids, attention_mask=attention_mask, labels=labels)\n",
    "            loss = outputs.loss\n",
    "            loss.backward()\n",
    "            optimizer.step()\n",
    "\n",
    "            current_lr = optimizer.param_groups[0]['lr']\n",
    "            learning_rates.append(current_lr)\n",
    "\n",
    "            current_loss = loss.item()\n",
    "\n",
    "            if current_loss > 4 * best_loss:\n",
    "                break\n",
    "\n",
    "            if current_loss < best_loss:\n",
    "                best_loss = current_loss\n",
    "\n",
    "            losses.append(current_loss)\n",
    "\n",
    "            for param_group in optimizer.param_groups:\n",
    "                param_group['lr'] *= lr_factor\n",
    "\n",
    "            loop.set_description(f\"LR: {current_lr:.8f}, Loss: {current_loss:.6f}\")\n",
    "        except Exception as e:\n",
    "            print(f\"Error during learning rate finding: {e}\")\n",
    "            break\n",
    "\n",
    "    min_len = min(len(learning_rates), len(losses))\n",
    "    return learning_rates[:min_len], losses[:min_len]"
   ],
   "id": "96a8d3343e52c35b",
   "outputs": [],
   "execution_count": 19
  },
  {
   "metadata": {
    "ExecuteTime": {
     "end_time": "2025-04-11T11:19:10.004324Z",
     "start_time": "2025-04-11T11:19:09.999454Z"
    }
   },
   "cell_type": "code",
   "source": [
    "def plot_learning_rate(learning_rates, losses):\n",
    "    plt.figure(figsize=(10, 6))\n",
    "\n",
    "    min_len = min(len(learning_rates), len(losses))\n",
    "    learning_rates = learning_rates[:min_len]\n",
    "    losses = losses[:min_len]\n",
    "\n",
    "    plt.semilogx(learning_rates, losses)\n",
    "    plt.xlabel('Learning Rate')\n",
    "    plt.ylabel('Loss')\n",
    "    plt.title('Learning Rate Finder')\n",
    "    plt.grid(True)\n",
    "\n",
    "    if len(losses) > 2:\n",
    "        try:\n",
    "            gradients = np.gradient(losses)\n",
    "            min_gradient_idx = np.argmin(gradients)\n",
    "\n",
    "            if 0 <= min_gradient_idx < len(learning_rates):\n",
    "                optimal_lr = learning_rates[min_gradient_idx]\n",
    "                plt.axvline(x=optimal_lr, color='r', linestyle='--')\n",
    "                plt.text(optimal_lr, min(losses), f'Suggested LR: {optimal_lr:.8f}',\n",
    "                         verticalalignment='bottom', horizontalalignment='right')\n",
    "            else:\n",
    "                optimal_lr = learning_rates[len(learning_rates) // 2]\n",
    "        except Exception as e:\n",
    "            print(f\"Error calculating gradient: {e}\")\n",
    "            optimal_lr = learning_rates[len(learning_rates) // 2]\n",
    "    else:\n",
    "        print(\"Not enough data points to calculate gradient\")\n",
    "        optimal_lr = learning_rates[0] if learning_rates else 1e-4\n",
    "\n",
    "    plt.savefig('learning_rate_finder.png')\n",
    "    plt.close()\n",
    "\n",
    "    print(f\"Selected learning rate: {optimal_lr:.8f}\")\n",
    "    return optimal_lr"
   ],
   "id": "305a50efe39cbd55",
   "outputs": [],
   "execution_count": 20
  },
  {
   "metadata": {
    "ExecuteTime": {
     "end_time": "2025-04-11T11:19:14.856455Z",
     "start_time": "2025-04-11T11:19:14.853374Z"
    }
   },
   "cell_type": "code",
   "source": [
    "def save_model_to_pickle(model, tokenizer, file_path=\"t5_reference_model.pkl\"):\n",
    "    \"\"\"\n",
    "    Save the model and tokenizer to a pickle file\n",
    "    \"\"\"\n",
    "\n",
    "    model = model.to(\"cpu\")  # Move model to CPU before saving. needed bc GPU cannot be pickled\n",
    "\n",
    "    model_data = {\n",
    "        \"model\": model,\n",
    "        \"tokenizer\": tokenizer,\n",
    "        \"model_name\": \"t5-small\",\n",
    "        \"max_input_length\": 512,\n",
    "        \"max_output_length\": 128\n",
    "    }\n",
    "\n",
    "    # Save to pickle file\n",
    "    with open(file_path, \"wb\") as f:\n",
    "        pickle.dump(model_data, f)\n",
    "\n",
    "    print(f\"Model saved to {file_path}\")\n",
    "\n",
    "    return file_path"
   ],
   "id": "94604a6d5d2bd0a9",
   "outputs": [],
   "execution_count": 21
  },
  {
   "metadata": {
    "ExecuteTime": {
     "end_time": "2025-04-11T11:19:14.864326Z",
     "start_time": "2025-04-11T11:19:14.861857Z"
    }
   },
   "cell_type": "code",
   "source": [
    "def load_model_from_pickle(file_path=\"t5_reference_model.pkl\"):\n",
    "    \"\"\"\n",
    "    Load the model and tokenizer from a pickle file\n",
    "    \"\"\"\n",
    "    with open(file_path, \"rb\") as f:\n",
    "        model_data = pickle.load(f)\n",
    "\n",
    "    model = model_data[\"model\"]\n",
    "    tokenizer = model_data[\"tokenizer\"]\n",
    "\n",
    "    return model, tokenizer, model_data"
   ],
   "id": "48983456a3cffb4",
   "outputs": [],
   "execution_count": 22
  },
  {
   "metadata": {},
   "cell_type": "markdown",
   "source": "## Learning Rate Finder",
   "id": "be7d90e206c4f05e"
  },
  {
   "metadata": {
    "ExecuteTime": {
     "end_time": "2025-04-11T17:51:14.344266Z",
     "start_time": "2025-04-11T11:19:14.897879Z"
    }
   },
   "cell_type": "code",
   "source": [
    "print(\"Running learning rate finder...\")\n",
    "learning_rates, losses = find_learning_rate(model, train_loader, device)\n",
    "optimal_lr = plot_learning_rate(learning_rates, losses)\n",
    "print(f\"Optimal learning rate found: {optimal_lr:.8f}\")\n",
    "optimizer = AdamW(model.parameters(), lr=optimal_lr)\n",
    "\n",
    "num_training_steps = len(train_loader) * 3  # For 3 epochs\n",
    "lr_scheduler = get_scheduler(\n",
    "    \"linear\",\n",
    "    optimizer=optimizer,\n",
    "    num_warmup_steps=0,\n",
    "    num_training_steps=num_training_steps\n",
    ")\n",
    "\n",
    "# Training with the optimal learning rate\n",
    "EPOCHS = 3  # 1 to 3 for better results\n",
    "training_losses = []\n",
    "validation_losses = []\n",
    "\n",
    "for epoch in range(EPOCHS):  # epoch\n",
    "    model.train()\n",
    "    epoch_loss = 0\n",
    "    loop = tqdm(train_loader, leave=True)\n",
    "\n",
    "    for batch in loop:\n",
    "        input_ids = batch[\"input_ids\"].to(device)\n",
    "        attention_mask = batch[\"attention_mask\"].to(device)\n",
    "        labels = batch[\"labels\"].to(device)\n",
    "\n",
    "        # Forward pass\n",
    "        outputs = model(input_ids=input_ids, attention_mask=attention_mask, labels=labels)\n",
    "        loss = outputs.loss\n",
    "\n",
    "        # Backward pass\n",
    "        optimizer.zero_grad()\n",
    "        loss.backward()\n",
    "        optimizer.step()\n",
    "        lr_scheduler.step()\n",
    "\n",
    "        # Update progress\n",
    "        current_loss = loss.item()\n",
    "        epoch_loss += current_loss\n",
    "        loop.set_description(f\"Epoch {epoch + 1}/{EPOCHS}\")\n",
    "        loop.set_postfix(loss=current_loss, lr=optimizer.param_groups[0]['lr'])\n",
    "\n",
    "    avg_train_loss = epoch_loss / len(train_loader)\n",
    "    training_losses.append(avg_train_loss)\n",
    "\n",
    "    # Validation phase\n",
    "    val_loss, val_accuracy = evaluate(model, val_loader, device)\n",
    "    validation_losses.append(val_loss)\n",
    "\n",
    "    print(f\"Epoch {epoch + 1}/{EPOCHS}:\")\n",
    "    print(f\"  Train Loss: {avg_train_loss:.6f}\")\n",
    "    print(f\"  Validation Loss: {val_loss:.6f}\")\n",
    "    print(f\"  Validation Accuracy: {val_accuracy:.6f}\")"
   ],
   "id": "26f36e616114d7a5",
   "outputs": [
    {
     "name": "stdout",
     "output_type": "stream",
     "text": [
      "Running learning rate finder...\n",
      "Finding optimal learning rate...\n"
     ]
    },
    {
     "name": "stderr",
     "output_type": "stream",
     "text": [
      "LR: 0.00000010, Loss: 0.000010:   1%|          | 1/100 [00:03<06:14,  3.78s/it]\n"
     ]
    },
    {
     "name": "stdout",
     "output_type": "stream",
     "text": [
      "Not enough data points to calculate gradient\n",
      "Selected learning rate: 0.00000010\n",
      "Optimal learning rate found: 0.00000010\n"
     ]
    },
    {
     "name": "stderr",
     "output_type": "stream",
     "text": [
      "Epoch 1/3: 100%|██████████| 3797/3797 [2:30:22<00:00,  2.38s/it, loss=1.72e-5, lr=6.67e-8]      \n",
      "100%|██████████| 634/634 [03:58<00:00,  2.66it/s]\n"
     ]
    },
    {
     "name": "stdout",
     "output_type": "stream",
     "text": [
      "Validation Loss: 9.363724728300382e-06\n",
      "Validation Accuracy: 0.9996052112120016\n",
      "Epoch 1/3:\n",
      "  Train Loss: 0.000376\n",
      "  Validation Loss: 0.000009\n",
      "  Validation Accuracy: 0.999605\n"
     ]
    },
    {
     "name": "stderr",
     "output_type": "stream",
     "text": [
      "Epoch 2/3: 100%|██████████| 3797/3797 [1:50:21<00:00,  1.74s/it, loss=0.0174, lr=3.33e-8]  \n",
      "100%|██████████| 634/634 [04:06<00:00,  2.57it/s]\n"
     ]
    },
    {
     "name": "stdout",
     "output_type": "stream",
     "text": [
      "Validation Loss: 8.922521432287e-06\n",
      "Validation Accuracy: 0.9996052112120016\n",
      "Epoch 2/3:\n",
      "  Train Loss: 0.000320\n",
      "  Validation Loss: 0.000009\n",
      "  Validation Accuracy: 0.999605\n"
     ]
    },
    {
     "name": "stderr",
     "output_type": "stream",
     "text": [
      "Epoch 3/3: 100%|██████████| 3797/3797 [1:58:59<00:00,  1.88s/it, loss=2.21e-6, lr=0]         \n",
      "100%|██████████| 634/634 [04:06<00:00,  2.57it/s]"
     ]
    },
    {
     "name": "stdout",
     "output_type": "stream",
     "text": [
      "Validation Loss: 8.826780238078476e-06\n",
      "Validation Accuracy: 0.9996052112120016\n",
      "Epoch 3/3:\n",
      "  Train Loss: 0.000327\n",
      "  Validation Loss: 0.000009\n",
      "  Validation Accuracy: 0.999605\n"
     ]
    },
    {
     "name": "stderr",
     "output_type": "stream",
     "text": [
      "\n"
     ]
    }
   ],
   "execution_count": 23
  },
  {
   "metadata": {
    "ExecuteTime": {
     "end_time": "2025-04-11T17:51:14.568157Z",
     "start_time": "2025-04-11T17:51:14.460826Z"
    }
   },
   "cell_type": "code",
   "source": [
    "plt.figure(figsize=(10, 6))\n",
    "plt.plot(training_losses, label='Training Loss')\n",
    "plt.plot(validation_losses, label='Validation Loss')\n",
    "plt.xlabel('Epoch')\n",
    "plt.ylabel('Loss')\n",
    "plt.title('Training and Validation Loss')\n",
    "plt.legend()\n",
    "plt.grid(True)\n",
    "plt.savefig('training_validation_loss.png')\n",
    "plt.close()"
   ],
   "id": "a0913e485125de7f",
   "outputs": [],
   "execution_count": 24
  },
  {
   "metadata": {
    "ExecuteTime": {
     "end_time": "2025-04-11T17:51:14.675803Z",
     "start_time": "2025-04-11T17:51:14.571543Z"
    }
   },
   "cell_type": "code",
   "source": [
    "model_path = save_model_to_pickle(model, tokenizer)\n",
    "print(f\"Model saved to {model_path}\")"
   ],
   "id": "44046834fb4288a6",
   "outputs": [
    {
     "name": "stdout",
     "output_type": "stream",
     "text": [
      "Model saved to t5_reference_model.pkl\n",
      "Model saved to t5_reference_model.pkl\n"
     ]
    }
   ],
   "execution_count": 25
  },
  {
   "metadata": {
    "ExecuteTime": {
     "end_time": "2025-04-11T17:51:14.706337Z",
     "start_time": "2025-04-11T17:51:14.704639Z"
    }
   },
   "cell_type": "code",
   "source": [
    "# commenting out to avoid running each time from when running\n",
    "# ## Load model from pkle and generate references\n",
    "# def generate_references(abstract_text, model, tokenizer, device, max_length=128):\n",
    "#     \"\"\"\n",
    "#     Generate references for a given abstract\n",
    "#     \"\"\"\n",
    "#     # Prepare input\n",
    "#     inputs = tokenizer(\n",
    "#         abstract_text,\n",
    "#         padding=\"max_length\",\n",
    "#         truncation=True,\n",
    "#         max_length=512,\n",
    "#         return_tensors=\"pt\"\n",
    "#     ).to(device)\n",
    "#\n",
    "#     # Generate output\n",
    "#     output_ids = model.generate(\n",
    "#         input_ids=inputs[\"input_ids\"],\n",
    "#         attention_mask=inputs[\"attention_mask\"],\n",
    "#         max_length=max_length,\n",
    "#         num_beams=4,\n",
    "#         early_stopping=True\n",
    "#     )\n",
    "#\n",
    "#     # Decode output\n",
    "#     generated_text = tokenizer.decode(output_ids[0], skip_special_tokens=True)\n",
    "#\n",
    "#     return generated_text"
   ],
   "id": "c5fa739b4f690515",
   "outputs": [],
   "execution_count": 26
  },
  {
   "metadata": {
    "ExecuteTime": {
     "end_time": "2025-04-11T17:51:14.765047Z",
     "start_time": "2025-04-11T17:51:14.762100Z"
    }
   },
   "cell_type": "code",
   "source": [
    "# Ex usage\n",
    "\"\"\"\n",
    "# Test with a sample abstract\n",
    "sample_abstract = \"This paper explores the use of transformer models for natural language generation tasks.\"\n",
    "\n",
    "generated_references = generate_references(\n",
    "    sample_abstract, model, tokenizer, device\n",
    ")\n",
    "\n",
    "print(\"Sample Abstract:\")\n",
    "print(sample_abstract)\n",
    "print(\"\\nGenerated References:\")\n",
    "print(generated_references)\n",
    "\"\"\"\n",
    "\n",
    "# To load and use the saved model:\n",
    "\"\"\"\n",
    "# Load model from pickle\n",
    "loaded_model, loaded_tokenizer, _ = load_model_from_pickle(\"t5_reference_model.pkl\")\n",
    "device = torch.device(\"cuda\" if torch.cuda.is_available() else \"cpu\")\n",
    "loaded_model = loaded_model.to(device)\n",
    "\n",
    "# Gen references with loaded model\n",
    "sample_abstract = \"This paper explores the use of transformer models for natural language generation tasks.\"\n",
    "generated_references = generate_references(sample_abstract, loaded_model, loaded_tokenizer, device)\n",
    "print(generated_references)\n",
    "\"\"\""
   ],
   "id": "2bd55e110d1ebc22",
   "outputs": [
    {
     "data": {
      "text/plain": [
       "'\\n# Load model from pickle\\nloaded_model, loaded_tokenizer, _ = load_model_from_pickle(\"t5_reference_model.pkl\")\\n\\n# Move model to device\\ndevice = torch.device(\"cuda\" if torch.cuda.is_available() else \"cpu\")\\nloaded_model = loaded_model.to(device)\\n\\n# Generate references with loaded model\\nsample_abstract = \"This paper explores the use of transformer models for natural language generation tasks.\"\\ngenerated_references = generate_references(sample_abstract, loaded_model, loaded_tokenizer, device)\\nprint(generated_references)\\n'"
      ]
     },
     "execution_count": 27,
     "metadata": {},
     "output_type": "execute_result"
    }
   ],
   "execution_count": 27
  },
  {
   "metadata": {
    "ExecuteTime": {
     "end_time": "2025-04-11T17:51:14.807557Z",
     "start_time": "2025-04-11T17:51:14.804549Z"
    }
   },
   "cell_type": "code",
   "source": [
    "# end\n",
    "end_time = time.time()\n",
    "execution_time = end_time - start_time\n",
    "hours, remainder = divmod(execution_time, 3600)\n",
    "minutes, seconds = divmod(remainder, 60)\n",
    "\n",
    "print(\"Training completed at:\", time.strftime(\"%H:%M:%S\", time.localtime()))\n",
    "print(f\"Total execution time: {int(hours):02d}:{int(minutes):02d}:{int(seconds):02d} (HH:MM:SS)\")\n",
    "print(f\"Total seconds: {execution_time:.2f}\")"
   ],
   "id": "45dab339eea535ef",
   "outputs": [
    {
     "name": "stdout",
     "output_type": "stream",
     "text": [
      "Training completed at: 13:51:14\n",
      "Total execution time: 14:27:20 (HH:MM:SS)\n",
      "Total seconds: 52040.77\n"
     ]
    }
   ],
   "execution_count": 28
  }
 ],
 "metadata": {
  "kernelspec": {
   "display_name": "Python 3 (ipykernel)",
   "language": "python",
   "name": "python3"
  },
  "language_info": {
   "codemirror_mode": {
    "name": "ipython",
    "version": 3
   },
   "file_extension": ".py",
   "mimetype": "text/x-python",
   "name": "python",
   "nbconvert_exporter": "python",
   "pygments_lexer": "ipython3",
   "version": "3.12.7"
  }
 },
 "nbformat": 4,
 "nbformat_minor": 5
}
